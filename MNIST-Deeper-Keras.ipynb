{
 "cells": [
  {
   "cell_type": "code",
   "execution_count": 14,
   "metadata": {},
   "outputs": [],
   "source": [
    "import keras\n",
    "import tensorflow as tf\n",
    "import numpy as np\n",
    "import matplotlib.pyplot as plt"
   ]
  },
  {
   "cell_type": "markdown",
   "metadata": {},
   "source": [
    "The MNIST data is a large dataset of handwritten numerical digits. More about the dataset: https://en.wikipedia.org/wiki/MNIST_database\n",
    "        \n",
    "\n",
    "The digits in the images are centred and scaled (similar sized).\n",
    "We proceed by loading the data."
   ]
  },
  {
   "cell_type": "code",
   "execution_count": 15,
   "metadata": {},
   "outputs": [],
   "source": [
    "def load_data():\n",
    "  # Load training and eval data\n",
    "    mnist = tf.contrib.learn.datasets.load_dataset(\"mnist\")\n",
    "    train_data = mnist.train.images # Returns np.array\n",
    "    train_labels = np.asarray(mnist.train.labels, dtype=np.int32)\n",
    "    test_data = mnist.test.images # Returns np.array\n",
    "    test_labels = np.asarray(mnist.test.labels, dtype=np.int32)\n",
    "    return train_data, train_labels, test_data, test_labels\n",
    "\n",
    "train_data, train_labels, test_data, test_labels = load_data()"
   ]
  },
  {
   "cell_type": "code",
   "execution_count": 17,
   "metadata": {},
   "outputs": [],
   "source": [
    "# What's the size of the training data?\n",
    "# train_data.shape"
   ]
  },
  {
   "cell_type": "markdown",
   "metadata": {},
   "source": [
    "Lets visualise a datapoint, an image in the dataset"
   ]
  },
  {
   "cell_type": "code",
   "execution_count": 18,
   "metadata": {},
   "outputs": [
    {
     "data": {
      "image/png": "[encoded data removed]",
      "text/plain": [
       "<matplotlib.figure.Figure at 0x1c329835c0>"
      ]
     },
     "metadata": {},
     "output_type": "display_data"
    }
   ],
   "source": [
    "some_digit = train_data[2]\n",
    "some_digit_image = some_digit.reshape(28,28) # reshape to square\n",
    "plt.imshow(some_digit_image,cmap = plt.cm.binary,interpolation=\"nearest\")\n",
    "# plt.axis(\"off\")\n",
    "plt.show()"
   ]
  },
  {
   "cell_type": "raw",
   "metadata": {},
   "source": [
    "#Some alterations that could be done to an image so as to check the effects of learning:\n",
    "\n",
    "b = np.zeros([28,28], float)\n",
    "\n",
    "#1. resizing the digit in the image to its 1/4th size and shifting it to the top left quadrant and rotating it.\n",
    "for i in range(14):\n",
    "    for j in range(14):\n",
    "        p = some_digit_image[2*i][2*j]\n",
    "        b[14-j][i] = p\n",
    "\n",
    "#2. resizing the digit in the image to its 1/4th size and shifting it to the top left quadrant\n",
    "for i in range(14):\n",
    "    for j in range(14):\n",
    "        p = some_digit_image[2*i][2*j]\n",
    "        b[i][j] = p\n",
    "\n",
    "#3. rotation\n",
    "for i in range(28):\n",
    "    for j in range(28):\n",
    "        p = some_digit_image[i][j]\n",
    "        b[27-j][i] = p"
   ]
  },
  {
   "cell_type": "code",
   "execution_count": 19,
   "metadata": {},
   "outputs": [
    {
     "data": {
      "image/png": "[encoded data removed]",
      "text/plain": [
       "<matplotlib.figure.Figure at 0x1c32983780>"
      ]
     },
     "metadata": {},
     "output_type": "display_data"
    }
   ],
   "source": [
    "b = some_digit_image\n",
    "\n",
    "plt.imshow(b,cmap = plt.cm.binary,interpolation=\"nearest\")\n",
    "# plt.axis(\"off\")\n",
    "plt.show()"
   ]
  },
  {
   "cell_type": "markdown",
   "metadata": {},
   "source": [
    "\n",
    "\n",
    "Convolutional neural network the neural network structure is\n",
    "\n",
    "    Input Layer\n",
    "    Covolution layer (5*5 feature detector, 32 output)\n",
    "    2*2 max pooling\n",
    "    Covolution layer (5*5 feature detector, 64 output)\n",
    "    2*2 max pooling\n",
    "    full connect layers : say 1 layer for now.\n",
    "    dropout layer\n",
    "    softmax the outcome\n",
    "\n"
   ]
  },
  {
   "cell_type": "markdown",
   "metadata": {},
   "source": [
    "We would like to process our labels in a one-hot encoding so that our predictions that would be 'probabilities' across the range of digits\n"
   ]
  },
  {
   "cell_type": "code",
   "execution_count": 20,
   "metadata": {},
   "outputs": [],
   "source": [
    "train_labels_reshaped = train_labels.reshape(-1,1)\n",
    "test_labels_reshaped = test_labels.reshape(-1,1)\n",
    "\n",
    "from sklearn.preprocessing import OneHotEncoder\n",
    "enc = OneHotEncoder()\n",
    "train_L = enc.fit_transform(train_labels_reshaped).toarray()\n",
    "test_L = enc.transform(test_labels_reshaped).toarray()\n",
    "\n",
    "from keras.models import Sequential\n",
    "from keras.layers import Conv2D, Dense, Activation, MaxPooling2D\n",
    "from keras import losses\n",
    "\n",
    "adam = keras.optimizers.Adam(lr=0.001, beta_1=0.9, beta_2=0.999, epsilon=None, decay=0.0, amsgrad=False)\n",
    "model = Sequential()\n",
    "model.add(Conv2D(filters = 32, kernel_size = [5,5], strides=(1, 1), padding='same', data_format=None, dilation_rate=(1, 1), activation='relu', use_bias=True, kernel_initializer='glorot_uniform', bias_initializer='zeros', kernel_regularizer=None, bias_regularizer=None, activity_regularizer=None, kernel_constraint=None, bias_constraint=None, input_shape = (28,28,1)))\n",
    "model.add(MaxPooling2D(pool_size=(2, 2), strides=(2,2), padding='same', data_format=None))\n",
    "model.add(Conv2D(filters = 64, kernel_size = [5,5], strides=(1, 1), padding='same', data_format=None, dilation_rate=(1, 1), activation='relu', use_bias=True, kernel_initializer='glorot_uniform', bias_initializer='zeros', kernel_regularizer=None, bias_regularizer=None, activity_regularizer=None, kernel_constraint=None, bias_constraint=None))\n",
    "model.add(MaxPooling2D(pool_size=(2, 2), strides=(2,2), padding='same', data_format=None))\n",
    "model.add(keras.layers.Reshape([3136]))\n",
    "model.add(Dense(10, activation='softmax'))\n",
    "\n",
    "model.compile(loss=losses.categorical_crossentropy, optimizer=adam,metrics=['accuracy']) #loss = 'categorical_crossentropy'\n",
    "\n"
   ]
  },
  {
   "cell_type": "code",
   "execution_count": 105,
   "metadata": {},
   "outputs": [
    {
     "name": "stdout",
     "output_type": "stream",
     "text": [
      "_________________________________________________________________\n",
      "Layer (type)                 Output Shape              Param #   \n",
      "=================================================================\n",
      "conv2d_28 (Conv2D)           (None, 28, 28, 32)        832       \n",
      "_________________________________________________________________\n",
      "max_pooling2d_25 (MaxPooling (None, 14, 14, 32)        0         \n",
      "_________________________________________________________________\n",
      "conv2d_29 (Conv2D)           (None, 14, 14, 64)        51264     \n",
      "_________________________________________________________________\n",
      "max_pooling2d_26 (MaxPooling (None, 7, 7, 64)          0         \n",
      "_________________________________________________________________\n",
      "reshape_13 (Reshape)         (None, 3136)              0         \n",
      "_________________________________________________________________\n",
      "dense_11 (Dense)             (None, 10)                31370     \n",
      "=================================================================\n",
      "Total params: 83,466\n",
      "Trainable params: 83,466\n",
      "Non-trainable params: 0\n",
      "_________________________________________________________________\n"
     ]
    }
   ],
   "source": [
    "model.summary()"
   ]
  },
  {
   "cell_type": "code",
   "execution_count": 102,
   "metadata": {},
   "outputs": [],
   "source": [
    "train_sample = train_data[:10000]\n",
    "labels_sample = train_L[:10000]\n",
    "\n",
    "valid_sample = train_data[10000:15000]\n",
    "labels_validsample = train_L[10000:15000]"
   ]
  },
  {
   "cell_type": "code",
   "execution_count": 59,
   "metadata": {},
   "outputs": [
    {
     "data": {
      "text/plain": [
       "array([[0., 0., 0., 0., 0., 0., 0., 1., 0., 0.],\n",
       "       [0., 0., 0., 1., 0., 0., 0., 0., 0., 0.],\n",
       "       [0., 0., 0., 0., 1., 0., 0., 0., 0., 0.]])"
      ]
     },
     "execution_count": 59,
     "metadata": {},
     "output_type": "execute_result"
    }
   ],
   "source": [
    "labels_sample[:3]"
   ]
  },
  {
   "cell_type": "code",
   "execution_count": 60,
   "metadata": {},
   "outputs": [
    {
     "data": {
      "image/png": "[encoded data removed]",
      "text/plain": [
       "<matplotlib.figure.Figure at 0x1c28cfd470>"
      ]
     },
     "metadata": {},
     "output_type": "display_data"
    },
    {
     "data": {
      "image/png": "[encoded data removed]",
      "text/plain": [
       "<matplotlib.figure.Figure at 0x1c2818c908>"
      ]
     },
     "metadata": {},
     "output_type": "display_data"
    },
    {
     "data": {
      "image/png": "[encoded data removed]",
      "text/plain": [
       "<matplotlib.figure.Figure at 0x1c28132668>"
      ]
     },
     "metadata": {},
     "output_type": "display_data"
    }
   ],
   "source": [
    "#Check Sample\n",
    "some_digit_list = train_sample[:3]\n",
    "for some_digit in some_digit_list:\n",
    "    some_digit_image = some_digit.reshape(28,28) # reshape to square\n",
    "    plt.imshow(some_digit_image,cmap = plt.cm.binary,interpolation=\"nearest\")\n",
    "    # plt.axis(\"off\")\n",
    "    plt.show()"
   ]
  },
  {
   "cell_type": "code",
   "execution_count": 61,
   "metadata": {},
   "outputs": [
    {
     "data": {
      "text/plain": [
       "(10000, 784)"
      ]
     },
     "execution_count": 61,
     "metadata": {},
     "output_type": "execute_result"
    }
   ],
   "source": [
    "train_sample.shape"
   ]
  },
  {
   "cell_type": "code",
   "execution_count": 66,
   "metadata": {},
   "outputs": [],
   "source": [
    "train_sample_ = np.reshape(train_sample,[-1,28,28,1])\n",
    "valid_sample_ = np.reshape(valid_sample,[-1,28,28,1])"
   ]
  },
  {
   "cell_type": "code",
   "execution_count": 63,
   "metadata": {},
   "outputs": [
    {
     "data": {
      "text/plain": [
       "(10000, 28, 28, 1)"
      ]
     },
     "execution_count": 63,
     "metadata": {},
     "output_type": "execute_result"
    }
   ],
   "source": [
    "train_sample_.shape"
   ]
  },
  {
   "cell_type": "code",
   "execution_count": 103,
   "metadata": {},
   "outputs": [
    {
     "name": "stdout",
     "output_type": "stream",
     "text": [
      "Train on 10000 samples, validate on 5000 samples\n",
      "Epoch 1/30\n",
      "10000/10000 [==============================] - 13s 1ms/step - loss: 2.3037 - acc: 0.1023 - val_loss: 2.3067 - val_acc: 0.1474\n",
      "Epoch 2/30\n",
      "10000/10000 [==============================] - 13s 1ms/step - loss: 2.2993 - acc: 0.1148 - val_loss: 2.3071 - val_acc: 0.0532\n",
      "Epoch 3/30\n",
      "10000/10000 [==============================] - 13s 1ms/step - loss: 2.2958 - acc: 0.1231 - val_loss: 2.3184 - val_acc: 0.1026\n",
      "Epoch 4/30\n",
      "10000/10000 [==============================] - 13s 1ms/step - loss: 2.2897 - acc: 0.1292 - val_loss: 2.3253 - val_acc: 0.0336\n",
      "Epoch 5/30\n",
      "10000/10000 [==============================] - 13s 1ms/step - loss: 2.2792 - acc: 0.1429 - val_loss: 2.3196 - val_acc: 0.0828\n",
      "Epoch 6/30\n",
      "10000/10000 [==============================] - 13s 1ms/step - loss: 2.2665 - acc: 0.1543 - val_loss: 2.3054 - val_acc: 0.1120\n",
      "Epoch 7/30\n",
      "10000/10000 [==============================] - 13s 1ms/step - loss: 2.2461 - acc: 0.1665 - val_loss: 2.2922 - val_acc: 0.1284\n",
      "Epoch 8/30\n",
      "10000/10000 [==============================] - 13s 1ms/step - loss: 2.2179 - acc: 0.1891 - val_loss: 2.2902 - val_acc: 0.1222\n",
      "Epoch 9/30\n",
      "10000/10000 [==============================] - 13s 1ms/step - loss: 2.1813 - acc: 0.2094 - val_loss: 2.3557 - val_acc: 0.0916\n",
      "Epoch 10/30\n",
      "10000/10000 [==============================] - 13s 1ms/step - loss: 2.1392 - acc: 0.2290 - val_loss: 2.3233 - val_acc: 0.1404\n",
      "Epoch 11/30\n",
      "10000/10000 [==============================] - 13s 1ms/step - loss: 2.0939 - acc: 0.2439 - val_loss: 2.3589 - val_acc: 0.1364\n",
      "Epoch 12/30\n",
      "10000/10000 [==============================] - 13s 1ms/step - loss: 2.0396 - acc: 0.2746 - val_loss: 2.4312 - val_acc: 0.1108\n",
      "Epoch 13/30\n",
      "10000/10000 [==============================] - 13s 1ms/step - loss: 1.9837 - acc: 0.2982 - val_loss: 2.5117 - val_acc: 0.1114\n",
      "Epoch 14/30\n",
      "10000/10000 [==============================] - 13s 1ms/step - loss: 1.9236 - acc: 0.3239 - val_loss: 2.5363 - val_acc: 0.0980\n",
      "Epoch 15/30\n",
      "10000/10000 [==============================] - 13s 1ms/step - loss: 1.8612 - acc: 0.3535 - val_loss: 2.6142 - val_acc: 0.0956\n",
      "Epoch 16/30\n",
      "10000/10000 [==============================] - 13s 1ms/step - loss: 1.7942 - acc: 0.3807 - val_loss: 2.6311 - val_acc: 0.1152\n",
      "Epoch 17/30\n",
      "10000/10000 [==============================] - 13s 1ms/step - loss: 1.7378 - acc: 0.4028 - val_loss: 2.7326 - val_acc: 0.0974\n",
      "Epoch 18/30\n",
      "10000/10000 [==============================] - 13s 1ms/step - loss: 1.6770 - acc: 0.4291 - val_loss: 2.7622 - val_acc: 0.1168\n",
      "Epoch 19/30\n",
      "10000/10000 [==============================] - 13s 1ms/step - loss: 1.6095 - acc: 0.4543 - val_loss: 2.8193 - val_acc: 0.0970\n",
      "Epoch 20/30\n",
      "10000/10000 [==============================] - 13s 1ms/step - loss: 1.5481 - acc: 0.4806 - val_loss: 2.9790 - val_acc: 0.0956\n",
      "Epoch 21/30\n",
      "10000/10000 [==============================] - 13s 1ms/step - loss: 1.4937 - acc: 0.4971 - val_loss: 2.9984 - val_acc: 0.0978\n",
      "Epoch 22/30\n",
      "10000/10000 [==============================] - 13s 1ms/step - loss: 1.4352 - acc: 0.5202 - val_loss: 3.0308 - val_acc: 0.1020\n",
      "Epoch 23/30\n",
      "10000/10000 [==============================] - 13s 1ms/step - loss: 1.3754 - acc: 0.5455 - val_loss: 3.1897 - val_acc: 0.0930\n",
      "Epoch 24/30\n",
      "10000/10000 [==============================] - 13s 1ms/step - loss: 1.3335 - acc: 0.5567 - val_loss: 3.2064 - val_acc: 0.1062\n",
      "Epoch 25/30\n",
      "10000/10000 [==============================] - 13s 1ms/step - loss: 1.2600 - acc: 0.5879 - val_loss: 3.1626 - val_acc: 0.1232\n",
      "Epoch 26/30\n",
      "10000/10000 [==============================] - 13s 1ms/step - loss: 1.2107 - acc: 0.6047 - val_loss: 3.2986 - val_acc: 0.1060\n",
      "Epoch 27/30\n",
      "10000/10000 [==============================] - 13s 1ms/step - loss: 1.1665 - acc: 0.6235 - val_loss: 3.3560 - val_acc: 0.1136\n",
      "Epoch 28/30\n",
      "10000/10000 [==============================] - 13s 1ms/step - loss: 1.1052 - acc: 0.6496 - val_loss: 3.4928 - val_acc: 0.1040\n",
      "Epoch 29/30\n",
      "10000/10000 [==============================] - 13s 1ms/step - loss: 1.0620 - acc: 0.6591 - val_loss: 3.6371 - val_acc: 0.1010\n",
      "Epoch 30/30\n",
      "10000/10000 [==============================] - 13s 1ms/step - loss: 1.0198 - acc: 0.6724 - val_loss: 3.6292 - val_acc: 0.1046\n"
     ]
    },
    {
     "data": {
      "text/plain": [
       "<keras.callbacks.History at 0x1c2a364978>"
      ]
     },
     "execution_count": 103,
     "metadata": {},
     "output_type": "execute_result"
    }
   ],
   "source": [
    "model.fit(train_sample_, labels_sample, epochs=30, batch_size=200, validation_data=(valid_sample_,labels_validsample))"
   ]
  },
  {
   "cell_type": "code",
   "execution_count": 84,
   "metadata": {},
   "outputs": [],
   "source": [
    "a = labels_sample[:]\n",
    "labels_sample_shuffled = np.random.permutation(a)\n"
   ]
  },
  {
   "cell_type": "code",
   "execution_count": 106,
   "metadata": {},
   "outputs": [
    {
     "name": "stdout",
     "output_type": "stream",
     "text": [
      "Train on 10000 samples, validate on 5000 samples\n",
      "Epoch 1/30\n",
      "10000/10000 [==============================] - 13s 1ms/step - loss: 2.3045 - acc: 0.1049 - val_loss: 2.3013 - val_acc: 0.1262\n",
      "Epoch 2/30\n",
      "10000/10000 [==============================] - 13s 1ms/step - loss: 2.2997 - acc: 0.1144 - val_loss: 2.2993 - val_acc: 0.1576\n",
      "Epoch 3/30\n",
      "10000/10000 [==============================] - 13s 1ms/step - loss: 2.2970 - acc: 0.1179 - val_loss: 2.3019 - val_acc: 0.1006\n",
      "Epoch 4/30\n",
      "10000/10000 [==============================] - 13s 1ms/step - loss: 2.2932 - acc: 0.1214 - val_loss: 2.3100 - val_acc: 0.1272\n",
      "Epoch 5/30\n",
      "10000/10000 [==============================] - 13s 1ms/step - loss: 2.2866 - acc: 0.1291 - val_loss: 2.3166 - val_acc: 0.0820\n",
      "Epoch 6/30\n",
      "10000/10000 [==============================] - 13s 1ms/step - loss: 2.2779 - acc: 0.1385 - val_loss: 2.3307 - val_acc: 0.1084\n",
      "Epoch 7/30\n",
      "10000/10000 [==============================] - 13s 1ms/step - loss: 2.2644 - acc: 0.1535 - val_loss: 2.3239 - val_acc: 0.1082\n",
      "Epoch 8/30\n",
      "10000/10000 [==============================] - 13s 1ms/step - loss: 2.2486 - acc: 0.1621 - val_loss: 2.3450 - val_acc: 0.0952\n",
      "Epoch 9/30\n",
      "10000/10000 [==============================] - 13s 1ms/step - loss: 2.2297 - acc: 0.1730 - val_loss: 2.4189 - val_acc: 0.0712\n",
      "Epoch 10/30\n",
      "10000/10000 [==============================] - 13s 1ms/step - loss: 2.2024 - acc: 0.1922 - val_loss: 2.4011 - val_acc: 0.0820\n",
      "Epoch 11/30\n",
      "10000/10000 [==============================] - 12s 1ms/step - loss: 2.1733 - acc: 0.2094 - val_loss: 2.3907 - val_acc: 0.1068\n",
      "Epoch 12/30\n",
      "10000/10000 [==============================] - 13s 1ms/step - loss: 2.1355 - acc: 0.2261 - val_loss: 2.3905 - val_acc: 0.1146\n",
      "Epoch 13/30\n",
      "10000/10000 [==============================] - 13s 1ms/step - loss: 2.0985 - acc: 0.2500 - val_loss: 2.4772 - val_acc: 0.0906\n",
      "Epoch 14/30\n",
      "10000/10000 [==============================] - 13s 1ms/step - loss: 2.0605 - acc: 0.2604 - val_loss: 2.5041 - val_acc: 0.0938\n",
      "Epoch 15/30\n",
      "10000/10000 [==============================] - 13s 1ms/step - loss: 2.0213 - acc: 0.2838 - val_loss: 2.5137 - val_acc: 0.1132\n",
      "Epoch 16/30\n",
      "10000/10000 [==============================] - 13s 1ms/step - loss: 1.9708 - acc: 0.3019 - val_loss: 2.5974 - val_acc: 0.0926\n",
      "Epoch 17/30\n",
      "10000/10000 [==============================] - 13s 1ms/step - loss: 1.9376 - acc: 0.3162 - val_loss: 2.5879 - val_acc: 0.1008\n",
      "Epoch 18/30\n",
      "10000/10000 [==============================] - 13s 1ms/step - loss: 1.8845 - acc: 0.3422 - val_loss: 2.7477 - val_acc: 0.0914\n",
      "Epoch 19/30\n",
      "10000/10000 [==============================] - 13s 1ms/step - loss: 1.8415 - acc: 0.3575 - val_loss: 2.6252 - val_acc: 0.1024\n",
      "Epoch 20/30\n",
      "10000/10000 [==============================] - 13s 1ms/step - loss: 1.7905 - acc: 0.3772 - val_loss: 2.7598 - val_acc: 0.1054\n",
      "Epoch 21/30\n",
      "10000/10000 [==============================] - 13s 1ms/step - loss: 1.7537 - acc: 0.3932 - val_loss: 2.8095 - val_acc: 0.1028\n",
      "Epoch 22/30\n",
      "10000/10000 [==============================] - 13s 1ms/step - loss: 1.7070 - acc: 0.4100 - val_loss: 2.8584 - val_acc: 0.0960\n",
      "Epoch 23/30\n",
      "10000/10000 [==============================] - 13s 1ms/step - loss: 1.6643 - acc: 0.4235 - val_loss: 2.9142 - val_acc: 0.0970\n",
      "Epoch 24/30\n",
      "10000/10000 [==============================] - 13s 1ms/step - loss: 1.6048 - acc: 0.4529 - val_loss: 2.8981 - val_acc: 0.1138\n",
      "Epoch 25/30\n",
      "10000/10000 [==============================] - 13s 1ms/step - loss: 1.5661 - acc: 0.4661 - val_loss: 3.0480 - val_acc: 0.0946\n",
      "Epoch 26/30\n",
      "10000/10000 [==============================] - 13s 1ms/step - loss: 1.5191 - acc: 0.4800 - val_loss: 3.0417 - val_acc: 0.0940\n",
      "Epoch 27/30\n",
      "10000/10000 [==============================] - 13s 1ms/step - loss: 1.4806 - acc: 0.5027 - val_loss: 3.1993 - val_acc: 0.0922\n",
      "Epoch 28/30\n",
      "10000/10000 [==============================] - 13s 1ms/step - loss: 1.4372 - acc: 0.5125 - val_loss: 3.2986 - val_acc: 0.0948\n",
      "Epoch 29/30\n",
      "10000/10000 [==============================] - 13s 1ms/step - loss: 1.3983 - acc: 0.5327 - val_loss: 3.2373 - val_acc: 0.1012\n",
      "Epoch 30/30\n",
      "10000/10000 [==============================] - 13s 1ms/step - loss: 1.3461 - acc: 0.5483 - val_loss: 3.3681 - val_acc: 0.0896\n"
     ]
    },
    {
     "data": {
      "text/plain": [
       "<keras.callbacks.History at 0x1c2df66da0>"
      ]
     },
     "execution_count": 106,
     "metadata": {},
     "output_type": "execute_result"
    }
   ],
   "source": [
    "model.fit(train_sample_, labels_sample_shuffled, epochs=30, batch_size=200, validation_data=(valid_sample_,labels_validsample))"
   ]
  },
  {
   "cell_type": "code",
   "execution_count": null,
   "metadata": {},
   "outputs": [],
   "source": []
  },
  {
   "cell_type": "code",
   "execution_count": 10,
   "metadata": {
    "scrolled": false
   },
   "outputs": [
    {
     "name": "stdout",
     "output_type": "stream",
     "text": [
      "WARNING:tensorflow:From <ipython-input-10-ab019b1b82e9>:44: softmax_cross_entropy_with_logits (from tensorflow.python.ops.nn_ops) is deprecated and will be removed in a future version.\n",
      "Instructions for updating:\n",
      "\n",
      "Future major versions of TensorFlow will allow gradients to flow\n",
      "into the labels input on backprop by default.\n",
      "\n",
      "See @{tf.nn.softmax_cross_entropy_with_logits_v2}.\n",
      "\n"
     ]
    }
   ],
   "source": [
    "g = tf.Graph()\n",
    "with g.as_default():\n",
    "    X = tf.placeholder(tf.float32, [None,784])\n",
    "    Y = tf.placeholder(tf.float32,[None,10])\n",
    "    X_ = tf.reshape(X,[-1,28,28,1]) \n",
    "    # for convolution. This operation would not be required if we plan to use just a feed-fwd network\n",
    "    \n",
    "    dropout_prob = tf.placeholder(tf.float32)\n",
    "    #dropout is a technique to avoid overfitting. A probability parameter is required for the same.\n",
    "    #arguments are passed in the computational graph via a placeholder.\n",
    "    #So far, X, Y, dropout_prob make use of the  placeholder.\n",
    "    lr = tf.placeholder(tf.float32)\n",
    "    \n",
    "    F1 = 32 #num of filters/kernels/convolutions in 1st layer\n",
    "    F2 = 64 #num of filters/kernels/convolutions in 2nd layer\n",
    "\n",
    "    \n",
    "    C1 = tf.Variable(tf.truncated_normal([5,5,1,F1], 0, 0.1, tf.float32))\n",
    "    B1 = tf.Variable(tf.ones([F1])/10)\n",
    "    \n",
    "    C2 = tf.Variable(tf.truncated_normal([5,5,F1,F2], 0, 0.1, tf.float32))\n",
    "    B2 = tf.Variable(tf.ones([F2])/10)\n",
    "    \n",
    "    W3 = tf.Variable(tf.truncated_normal([7*7*F2,10], 0, 0.1, tf.float32))\n",
    "    B3 = tf.Variable(tf.ones([10])/10)\n",
    "\n",
    "   \n",
    "    #stride of 1 for both convolutions\n",
    "    L1 = tf.nn.relu(tf.nn.conv2d(X_, C1, strides=[1,1,1,1], padding='SAME') + B1)\n",
    "    L1_ = tf.nn.max_pool(L1,ksize=[1,2,2,1], strides=[1,2,2,1], padding='SAME')\n",
    "    \n",
    "    L2 = tf.nn.relu(tf.nn.conv2d(L1_, C2, strides=[1,1,1,1], padding='SAME') + B2)\n",
    "    L2_ = tf.nn.max_pool(L2, ksize = [1,2,2,1], strides = [1,2,2,1], padding='SAME')\n",
    "    \n",
    "    L3 = tf.reshape(L2_,shape=[-1,7*7*F2])\n",
    "    \n",
    "    #################1 feed fwd layer. No activation since the last layer.\n",
    "    L4 = tf.matmul(L3, W3) + B3\n",
    "    L = tf.nn.softmax(L4)    \n",
    "    #for each data-point, L would be a 10-sized array of estimated probabilities for each digit\n",
    "    #################\n",
    "\n",
    "    #LOSS\n",
    "    crossE = tf.reduce_mean(tf.nn.softmax_cross_entropy_with_logits(logits=L4, labels=Y))\n",
    "    \n",
    "    correct_prediction = tf.equal(tf.argmax(L,1), tf.argmax(Y,1))\n",
    "    accuracy = tf.reduce_mean(tf.cast(correct_prediction, tf.float32))\n",
    "    \n",
    "    optimizer = tf.train.AdamOptimizer(lr)\n",
    "    train_step = optimizer.minimize(crossE)"
   ]
  },
  {
   "cell_type": "code",
   "execution_count": 11,
   "metadata": {},
   "outputs": [],
   "source": [
    "bc = np.reshape(b, [784])"
   ]
  },
  {
   "cell_type": "code",
   "execution_count": 13,
   "metadata": {
    "scrolled": true
   },
   "outputs": [
    {
     "name": "stdout",
     "output_type": "stream",
     "text": [
      "LR:  0.004\n",
      "Epoch1\n",
      "ACCURACY:  0.7749\n",
      "LR:  0.003062331280577377\n",
      "Epoch2\n",
      "ACCURACY:  0.7726\n",
      "LR:  0.002350104260483898\n",
      "Epoch3\n",
      "ACCURACY:  0.8298\n",
      "LR:  0.0018091164706133022\n",
      "Epoch4\n",
      "ACCURACY:  0.8604\n",
      "LR:  0.0013981972264225104\n",
      "Epoch5\n",
      "ACCURACY:  0.8815\n",
      "LR:  0.0010860744236385112\n",
      "Epoch6\n",
      "ACCURACY:  0.8674\n",
      "LR:  0.0008489946436209412\n",
      "Epoch7\n",
      "ACCURACY:  0.8839\n",
      "LR:  0.0006689154517392868\n",
      "Epoch8\n",
      "ACCURACY:  0.9023\n",
      "LR:  0.0005321323176131021\n",
      "Epoch9\n",
      "ACCURACY:  0.9091\n",
      "LR:  0.0004282356620035104\n",
      "Epoch10\n",
      "ACCURACY:  0.9268\n"
     ]
    }
   ],
   "source": [
    "import math\n",
    "# check_data = train_data[:5]\n",
    "# check_L = train_L[:5]\n",
    "# bb = tf.reshape(b, shape = [784])\n",
    "with tf.Session(graph=g) as sess:\n",
    "    sess.run(tf.global_variables_initializer())\n",
    "#     builder = tf.saved_model.builder.SavedModelBuilder()\n",
    "    \n",
    "    batch_size = 100\n",
    "    epochs = 10\n",
    "    iterations = int(train_data.shape[0]/batch_size)\n",
    "    batch_num = 0\n",
    "    \n",
    "    max_learning_rate = 0.004\n",
    "    min_learning_rate = 0.0001\n",
    "    decay_speed = 2000.0\n",
    "    learning_rate = max_learning_rate\n",
    "    \n",
    "    for i in range(epochs):\n",
    "        print(\"LR: \",learning_rate)\n",
    "        for j in range(iterations):\n",
    "            batch_num +=1\n",
    "            start_idx = (i * batch_size) % (train_data.shape[0] - batch_size)\n",
    "            end_idx = start_idx + batch_size\n",
    "            \n",
    "            x_train = train_data[start_idx:end_idx]\n",
    "            y_train = train_L[start_idx:end_idx]\n",
    "            \n",
    "            learning_rate = min_learning_rate + (max_learning_rate - min_learning_rate) * math.exp(-batch_num/decay_speed)\n",
    "\n",
    "            x = sess.run(train_step, feed_dict = {X:x_train, Y:y_train, dropout_prob: 0.5, lr: learning_rate})\n",
    "        print (\"Epoch\"+str(i+1))\n",
    "#         print (\"batch: \"+ str(batch_num+1))\n",
    "        ans=sess.run(accuracy,feed_dict={X:test_data,Y:test_L,dropout_prob:1,lr:learning_rate}) # evaluate the testing dataset.\n",
    "        print(\"ACCURACY: \", ans)\n",
    "#         ans2 = sess.run(L1_, feed_dict = {X:[bc], Y: check_L[2:3], dropout_prob:1, lr: learning_rate})\n",
    "#         checks = sess.run(L, feed_dict={X:check_data, Y: check_L, dropout_prob:1,lr: learning_rate})\n",
    "#         print (checks)\n",
    "#         check = sess.run(L6, feed_dict={X:[bc], Y: check_L[2:3], dropout_prob:1,lr: learning_rate})\n",
    "#         print (check)\n",
    "        \n",
    "    "
   ]
  },
  {
   "cell_type": "code",
   "execution_count": 17,
   "metadata": {
    "collapsed": true
   },
   "outputs": [
    {
     "data": {
      "text/plain": [
       "[<tf.Operation 'Placeholder' type=Placeholder>,\n",
       " <tf.Operation 'Placeholder_1' type=Placeholder>,\n",
       " <tf.Operation 'Reshape/shape' type=Const>,\n",
       " <tf.Operation 'Reshape' type=Reshape>,\n",
       " <tf.Operation 'Placeholder_2' type=Placeholder>,\n",
       " <tf.Operation 'Placeholder_3' type=Placeholder>,\n",
       " <tf.Operation 'truncated_normal/shape' type=Const>,\n",
       " <tf.Operation 'truncated_normal/mean' type=Const>,\n",
       " <tf.Operation 'truncated_normal/stddev' type=Const>,\n",
       " <tf.Operation 'truncated_normal/TruncatedNormal' type=TruncatedNormal>,\n",
       " <tf.Operation 'truncated_normal/mul' type=Mul>,\n",
       " <tf.Operation 'truncated_normal' type=Add>,\n",
       " <tf.Operation 'Variable' type=VariableV2>,\n",
       " <tf.Operation 'Variable/Assign' type=Assign>,\n",
       " <tf.Operation 'Variable/read' type=Identity>,\n",
       " <tf.Operation 'ones/shape_as_tensor' type=Const>,\n",
       " <tf.Operation 'ones/Const' type=Const>,\n",
       " <tf.Operation 'ones' type=Fill>,\n",
       " <tf.Operation 'truediv/y' type=Const>,\n",
       " <tf.Operation 'truediv' type=RealDiv>,\n",
       " <tf.Operation 'Variable_1' type=VariableV2>,\n",
       " <tf.Operation 'Variable_1/Assign' type=Assign>,\n",
       " <tf.Operation 'Variable_1/read' type=Identity>,\n",
       " <tf.Operation 'truncated_normal_1/shape' type=Const>,\n",
       " <tf.Operation 'truncated_normal_1/mean' type=Const>,\n",
       " <tf.Operation 'truncated_normal_1/stddev' type=Const>,\n",
       " <tf.Operation 'truncated_normal_1/TruncatedNormal' type=TruncatedNormal>,\n",
       " <tf.Operation 'truncated_normal_1/mul' type=Mul>,\n",
       " <tf.Operation 'truncated_normal_1' type=Add>,\n",
       " <tf.Operation 'Variable_2' type=VariableV2>,\n",
       " <tf.Operation 'Variable_2/Assign' type=Assign>,\n",
       " <tf.Operation 'Variable_2/read' type=Identity>,\n",
       " <tf.Operation 'ones_1/shape_as_tensor' type=Const>,\n",
       " <tf.Operation 'ones_1/Const' type=Const>,\n",
       " <tf.Operation 'ones_1' type=Fill>,\n",
       " <tf.Operation 'truediv_1/y' type=Const>,\n",
       " <tf.Operation 'truediv_1' type=RealDiv>,\n",
       " <tf.Operation 'Variable_3' type=VariableV2>,\n",
       " <tf.Operation 'Variable_3/Assign' type=Assign>,\n",
       " <tf.Operation 'Variable_3/read' type=Identity>,\n",
       " <tf.Operation 'truncated_normal_2/shape' type=Const>,\n",
       " <tf.Operation 'truncated_normal_2/mean' type=Const>,\n",
       " <tf.Operation 'truncated_normal_2/stddev' type=Const>,\n",
       " <tf.Operation 'truncated_normal_2/TruncatedNormal' type=TruncatedNormal>,\n",
       " <tf.Operation 'truncated_normal_2/mul' type=Mul>,\n",
       " <tf.Operation 'truncated_normal_2' type=Add>,\n",
       " <tf.Operation 'Variable_4' type=VariableV2>,\n",
       " <tf.Operation 'Variable_4/Assign' type=Assign>,\n",
       " <tf.Operation 'Variable_4/read' type=Identity>,\n",
       " <tf.Operation 'ones_2/shape_as_tensor' type=Const>,\n",
       " <tf.Operation 'ones_2/Const' type=Const>,\n",
       " <tf.Operation 'ones_2' type=Fill>,\n",
       " <tf.Operation 'truediv_2/y' type=Const>,\n",
       " <tf.Operation 'truediv_2' type=RealDiv>,\n",
       " <tf.Operation 'Variable_5' type=VariableV2>,\n",
       " <tf.Operation 'Variable_5/Assign' type=Assign>,\n",
       " <tf.Operation 'Variable_5/read' type=Identity>,\n",
       " <tf.Operation 'Conv2D' type=Conv2D>,\n",
       " <tf.Operation 'add' type=Add>,\n",
       " <tf.Operation 'Relu' type=Relu>,\n",
       " <tf.Operation 'MaxPool' type=MaxPool>,\n",
       " <tf.Operation 'Conv2D_1' type=Conv2D>,\n",
       " <tf.Operation 'add_1' type=Add>,\n",
       " <tf.Operation 'Relu_1' type=Relu>,\n",
       " <tf.Operation 'MaxPool_1' type=MaxPool>,\n",
       " <tf.Operation 'Reshape_1/shape' type=Const>,\n",
       " <tf.Operation 'Reshape_1' type=Reshape>,\n",
       " <tf.Operation 'MatMul' type=MatMul>,\n",
       " <tf.Operation 'add_2' type=Add>,\n",
       " <tf.Operation 'Softmax' type=Softmax>,\n",
       " <tf.Operation 'softmax_cross_entropy_with_logits_sg/labels_stop_gradient' type=StopGradient>,\n",
       " <tf.Operation 'softmax_cross_entropy_with_logits_sg/Rank' type=Const>,\n",
       " <tf.Operation 'softmax_cross_entropy_with_logits_sg/Shape' type=Shape>,\n",
       " <tf.Operation 'softmax_cross_entropy_with_logits_sg/Rank_1' type=Const>,\n",
       " <tf.Operation 'softmax_cross_entropy_with_logits_sg/Shape_1' type=Shape>,\n",
       " <tf.Operation 'softmax_cross_entropy_with_logits_sg/Sub/y' type=Const>,\n",
       " <tf.Operation 'softmax_cross_entropy_with_logits_sg/Sub' type=Sub>,\n",
       " <tf.Operation 'softmax_cross_entropy_with_logits_sg/Slice/begin' type=Pack>,\n",
       " <tf.Operation 'softmax_cross_entropy_with_logits_sg/Slice/size' type=Const>,\n",
       " <tf.Operation 'softmax_cross_entropy_with_logits_sg/Slice' type=Slice>,\n",
       " <tf.Operation 'softmax_cross_entropy_with_logits_sg/concat/values_0' type=Const>,\n",
       " <tf.Operation 'softmax_cross_entropy_with_logits_sg/concat/axis' type=Const>,\n",
       " <tf.Operation 'softmax_cross_entropy_with_logits_sg/concat' type=ConcatV2>,\n",
       " <tf.Operation 'softmax_cross_entropy_with_logits_sg/Reshape' type=Reshape>,\n",
       " <tf.Operation 'softmax_cross_entropy_with_logits_sg/Rank_2' type=Const>,\n",
       " <tf.Operation 'softmax_cross_entropy_with_logits_sg/Shape_2' type=Shape>,\n",
       " <tf.Operation 'softmax_cross_entropy_with_logits_sg/Sub_1/y' type=Const>,\n",
       " <tf.Operation 'softmax_cross_entropy_with_logits_sg/Sub_1' type=Sub>,\n",
       " <tf.Operation 'softmax_cross_entropy_with_logits_sg/Slice_1/begin' type=Pack>,\n",
       " <tf.Operation 'softmax_cross_entropy_with_logits_sg/Slice_1/size' type=Const>,\n",
       " <tf.Operation 'softmax_cross_entropy_with_logits_sg/Slice_1' type=Slice>,\n",
       " <tf.Operation 'softmax_cross_entropy_with_logits_sg/concat_1/values_0' type=Const>,\n",
       " <tf.Operation 'softmax_cross_entropy_with_logits_sg/concat_1/axis' type=Const>,\n",
       " <tf.Operation 'softmax_cross_entropy_with_logits_sg/concat_1' type=ConcatV2>,\n",
       " <tf.Operation 'softmax_cross_entropy_with_logits_sg/Reshape_1' type=Reshape>,\n",
       " <tf.Operation 'softmax_cross_entropy_with_logits_sg' type=SoftmaxCrossEntropyWithLogits>,\n",
       " <tf.Operation 'softmax_cross_entropy_with_logits_sg/Sub_2/y' type=Const>,\n",
       " <tf.Operation 'softmax_cross_entropy_with_logits_sg/Sub_2' type=Sub>,\n",
       " <tf.Operation 'softmax_cross_entropy_with_logits_sg/Slice_2/begin' type=Const>,\n",
       " <tf.Operation 'softmax_cross_entropy_with_logits_sg/Slice_2/size' type=Pack>,\n",
       " <tf.Operation 'softmax_cross_entropy_with_logits_sg/Slice_2' type=Slice>,\n",
       " <tf.Operation 'softmax_cross_entropy_with_logits_sg/Reshape_2' type=Reshape>,\n",
       " <tf.Operation 'Const' type=Const>,\n",
       " <tf.Operation 'Mean' type=Mean>,\n",
       " <tf.Operation 'ArgMax/dimension' type=Const>,\n",
       " <tf.Operation 'ArgMax' type=ArgMax>,\n",
       " <tf.Operation 'ArgMax_1/dimension' type=Const>,\n",
       " <tf.Operation 'ArgMax_1' type=ArgMax>,\n",
       " <tf.Operation 'Equal' type=Equal>,\n",
       " <tf.Operation 'Cast' type=Cast>,\n",
       " <tf.Operation 'Const_1' type=Const>,\n",
       " <tf.Operation 'Mean_1' type=Mean>,\n",
       " <tf.Operation 'gradients/Shape' type=Const>,\n",
       " <tf.Operation 'gradients/grad_ys_0' type=Const>,\n",
       " <tf.Operation 'gradients/Fill' type=Fill>,\n",
       " <tf.Operation 'gradients/Mean_grad/Reshape/shape' type=Const>,\n",
       " <tf.Operation 'gradients/Mean_grad/Reshape' type=Reshape>,\n",
       " <tf.Operation 'gradients/Mean_grad/Shape' type=Shape>,\n",
       " <tf.Operation 'gradients/Mean_grad/Tile' type=Tile>,\n",
       " <tf.Operation 'gradients/Mean_grad/Shape_1' type=Shape>,\n",
       " <tf.Operation 'gradients/Mean_grad/Shape_2' type=Const>,\n",
       " <tf.Operation 'gradients/Mean_grad/Const' type=Const>,\n",
       " <tf.Operation 'gradients/Mean_grad/Prod' type=Prod>,\n",
       " <tf.Operation 'gradients/Mean_grad/Const_1' type=Const>,\n",
       " <tf.Operation 'gradients/Mean_grad/Prod_1' type=Prod>,\n",
       " <tf.Operation 'gradients/Mean_grad/Maximum/y' type=Const>,\n",
       " <tf.Operation 'gradients/Mean_grad/Maximum' type=Maximum>,\n",
       " <tf.Operation 'gradients/Mean_grad/floordiv' type=FloorDiv>,\n",
       " <tf.Operation 'gradients/Mean_grad/Cast' type=Cast>,\n",
       " <tf.Operation 'gradients/Mean_grad/truediv' type=RealDiv>,\n",
       " <tf.Operation 'gradients/softmax_cross_entropy_with_logits_sg/Reshape_2_grad/Shape' type=Shape>,\n",
       " <tf.Operation 'gradients/softmax_cross_entropy_with_logits_sg/Reshape_2_grad/Reshape' type=Reshape>,\n",
       " <tf.Operation 'gradients/zeros_like' type=ZerosLike>,\n",
       " <tf.Operation 'gradients/softmax_cross_entropy_with_logits_sg_grad/ExpandDims/dim' type=Const>,\n",
       " <tf.Operation 'gradients/softmax_cross_entropy_with_logits_sg_grad/ExpandDims' type=ExpandDims>,\n",
       " <tf.Operation 'gradients/softmax_cross_entropy_with_logits_sg_grad/mul' type=Mul>,\n",
       " <tf.Operation 'gradients/softmax_cross_entropy_with_logits_sg_grad/LogSoftmax' type=LogSoftmax>,\n",
       " <tf.Operation 'gradients/softmax_cross_entropy_with_logits_sg_grad/Neg' type=Neg>,\n",
       " <tf.Operation 'gradients/softmax_cross_entropy_with_logits_sg_grad/ExpandDims_1/dim' type=Const>,\n",
       " <tf.Operation 'gradients/softmax_cross_entropy_with_logits_sg_grad/ExpandDims_1' type=ExpandDims>,\n",
       " <tf.Operation 'gradients/softmax_cross_entropy_with_logits_sg_grad/mul_1' type=Mul>,\n",
       " <tf.Operation 'gradients/softmax_cross_entropy_with_logits_sg_grad/tuple/group_deps' type=NoOp>,\n",
       " <tf.Operation 'gradients/softmax_cross_entropy_with_logits_sg_grad/tuple/control_dependency' type=Identity>,\n",
       " <tf.Operation 'gradients/softmax_cross_entropy_with_logits_sg_grad/tuple/control_dependency_1' type=Identity>,\n",
       " <tf.Operation 'gradients/softmax_cross_entropy_with_logits_sg/Reshape_grad/Shape' type=Shape>,\n",
       " <tf.Operation 'gradients/softmax_cross_entropy_with_logits_sg/Reshape_grad/Reshape' type=Reshape>,\n",
       " <tf.Operation 'gradients/add_2_grad/Shape' type=Shape>,\n",
       " <tf.Operation 'gradients/add_2_grad/Shape_1' type=Const>,\n",
       " <tf.Operation 'gradients/add_2_grad/BroadcastGradientArgs' type=BroadcastGradientArgs>,\n",
       " <tf.Operation 'gradients/add_2_grad/Sum' type=Sum>,\n",
       " <tf.Operation 'gradients/add_2_grad/Reshape' type=Reshape>,\n",
       " <tf.Operation 'gradients/add_2_grad/Sum_1' type=Sum>,\n",
       " <tf.Operation 'gradients/add_2_grad/Reshape_1' type=Reshape>,\n",
       " <tf.Operation 'gradients/add_2_grad/tuple/group_deps' type=NoOp>,\n",
       " <tf.Operation 'gradients/add_2_grad/tuple/control_dependency' type=Identity>,\n",
       " <tf.Operation 'gradients/add_2_grad/tuple/control_dependency_1' type=Identity>,\n",
       " <tf.Operation 'gradients/MatMul_grad/MatMul' type=MatMul>,\n",
       " <tf.Operation 'gradients/MatMul_grad/MatMul_1' type=MatMul>,\n",
       " <tf.Operation 'gradients/MatMul_grad/tuple/group_deps' type=NoOp>,\n",
       " <tf.Operation 'gradients/MatMul_grad/tuple/control_dependency' type=Identity>,\n",
       " <tf.Operation 'gradients/MatMul_grad/tuple/control_dependency_1' type=Identity>,\n",
       " <tf.Operation 'gradients/Reshape_1_grad/Shape' type=Shape>,\n",
       " <tf.Operation 'gradients/Reshape_1_grad/Reshape' type=Reshape>,\n",
       " <tf.Operation 'gradients/MaxPool_1_grad/MaxPoolGrad' type=MaxPoolGrad>,\n",
       " <tf.Operation 'gradients/Relu_1_grad/ReluGrad' type=ReluGrad>,\n",
       " <tf.Operation 'gradients/add_1_grad/Shape' type=Shape>,\n",
       " <tf.Operation 'gradients/add_1_grad/Shape_1' type=Const>,\n",
       " <tf.Operation 'gradients/add_1_grad/BroadcastGradientArgs' type=BroadcastGradientArgs>,\n",
       " <tf.Operation 'gradients/add_1_grad/Sum' type=Sum>,\n",
       " <tf.Operation 'gradients/add_1_grad/Reshape' type=Reshape>,\n",
       " <tf.Operation 'gradients/add_1_grad/Sum_1' type=Sum>,\n",
       " <tf.Operation 'gradients/add_1_grad/Reshape_1' type=Reshape>,\n",
       " <tf.Operation 'gradients/add_1_grad/tuple/group_deps' type=NoOp>,\n",
       " <tf.Operation 'gradients/add_1_grad/tuple/control_dependency' type=Identity>,\n",
       " <tf.Operation 'gradients/add_1_grad/tuple/control_dependency_1' type=Identity>,\n",
       " <tf.Operation 'gradients/Conv2D_1_grad/ShapeN' type=ShapeN>,\n",
       " <tf.Operation 'gradients/Conv2D_1_grad/Const' type=Const>,\n",
       " <tf.Operation 'gradients/Conv2D_1_grad/Conv2DBackpropInput' type=Conv2DBackpropInput>,\n",
       " <tf.Operation 'gradients/Conv2D_1_grad/Conv2DBackpropFilter' type=Conv2DBackpropFilter>,\n",
       " <tf.Operation 'gradients/Conv2D_1_grad/tuple/group_deps' type=NoOp>,\n",
       " <tf.Operation 'gradients/Conv2D_1_grad/tuple/control_dependency' type=Identity>,\n",
       " <tf.Operation 'gradients/Conv2D_1_grad/tuple/control_dependency_1' type=Identity>,\n",
       " <tf.Operation 'gradients/MaxPool_grad/MaxPoolGrad' type=MaxPoolGrad>,\n",
       " <tf.Operation 'gradients/Relu_grad/ReluGrad' type=ReluGrad>,\n",
       " <tf.Operation 'gradients/add_grad/Shape' type=Shape>,\n",
       " <tf.Operation 'gradients/add_grad/Shape_1' type=Const>,\n",
       " <tf.Operation 'gradients/add_grad/BroadcastGradientArgs' type=BroadcastGradientArgs>,\n",
       " <tf.Operation 'gradients/add_grad/Sum' type=Sum>,\n",
       " <tf.Operation 'gradients/add_grad/Reshape' type=Reshape>,\n",
       " <tf.Operation 'gradients/add_grad/Sum_1' type=Sum>,\n",
       " <tf.Operation 'gradients/add_grad/Reshape_1' type=Reshape>,\n",
       " <tf.Operation 'gradients/add_grad/tuple/group_deps' type=NoOp>,\n",
       " <tf.Operation 'gradients/add_grad/tuple/control_dependency' type=Identity>,\n",
       " <tf.Operation 'gradients/add_grad/tuple/control_dependency_1' type=Identity>,\n",
       " <tf.Operation 'gradients/Conv2D_grad/ShapeN' type=ShapeN>,\n",
       " <tf.Operation 'gradients/Conv2D_grad/Const' type=Const>,\n",
       " <tf.Operation 'gradients/Conv2D_grad/Conv2DBackpropInput' type=Conv2DBackpropInput>,\n",
       " <tf.Operation 'gradients/Conv2D_grad/Conv2DBackpropFilter' type=Conv2DBackpropFilter>,\n",
       " <tf.Operation 'gradients/Conv2D_grad/tuple/group_deps' type=NoOp>,\n",
       " <tf.Operation 'gradients/Conv2D_grad/tuple/control_dependency' type=Identity>,\n",
       " <tf.Operation 'gradients/Conv2D_grad/tuple/control_dependency_1' type=Identity>,\n",
       " <tf.Operation 'beta1_power/initial_value' type=Const>,\n",
       " <tf.Operation 'beta1_power' type=VariableV2>,\n",
       " <tf.Operation 'beta1_power/Assign' type=Assign>,\n",
       " <tf.Operation 'beta1_power/read' type=Identity>,\n",
       " <tf.Operation 'beta2_power/initial_value' type=Const>,\n",
       " <tf.Operation 'beta2_power' type=VariableV2>,\n",
       " <tf.Operation 'beta2_power/Assign' type=Assign>,\n",
       " <tf.Operation 'beta2_power/read' type=Identity>,\n",
       " <tf.Operation 'Variable/Adam/Initializer/zeros/shape_as_tensor' type=Const>,\n",
       " <tf.Operation 'Variable/Adam/Initializer/zeros/Const' type=Const>,\n",
       " <tf.Operation 'Variable/Adam/Initializer/zeros' type=Fill>,\n",
       " <tf.Operation 'Variable/Adam' type=VariableV2>,\n",
       " <tf.Operation 'Variable/Adam/Assign' type=Assign>,\n",
       " <tf.Operation 'Variable/Adam/read' type=Identity>,\n",
       " <tf.Operation 'Variable/Adam_1/Initializer/zeros/shape_as_tensor' type=Const>,\n",
       " <tf.Operation 'Variable/Adam_1/Initializer/zeros/Const' type=Const>,\n",
       " <tf.Operation 'Variable/Adam_1/Initializer/zeros' type=Fill>,\n",
       " <tf.Operation 'Variable/Adam_1' type=VariableV2>,\n",
       " <tf.Operation 'Variable/Adam_1/Assign' type=Assign>,\n",
       " <tf.Operation 'Variable/Adam_1/read' type=Identity>,\n",
       " <tf.Operation 'Variable_1/Adam/Initializer/zeros/shape_as_tensor' type=Const>,\n",
       " <tf.Operation 'Variable_1/Adam/Initializer/zeros/Const' type=Const>,\n",
       " <tf.Operation 'Variable_1/Adam/Initializer/zeros' type=Fill>,\n",
       " <tf.Operation 'Variable_1/Adam' type=VariableV2>,\n",
       " <tf.Operation 'Variable_1/Adam/Assign' type=Assign>,\n",
       " <tf.Operation 'Variable_1/Adam/read' type=Identity>,\n",
       " <tf.Operation 'Variable_1/Adam_1/Initializer/zeros/shape_as_tensor' type=Const>,\n",
       " <tf.Operation 'Variable_1/Adam_1/Initializer/zeros/Const' type=Const>,\n",
       " <tf.Operation 'Variable_1/Adam_1/Initializer/zeros' type=Fill>,\n",
       " <tf.Operation 'Variable_1/Adam_1' type=VariableV2>,\n",
       " <tf.Operation 'Variable_1/Adam_1/Assign' type=Assign>,\n",
       " <tf.Operation 'Variable_1/Adam_1/read' type=Identity>,\n",
       " <tf.Operation 'Variable_2/Adam/Initializer/zeros/shape_as_tensor' type=Const>,\n",
       " <tf.Operation 'Variable_2/Adam/Initializer/zeros/Const' type=Const>,\n",
       " <tf.Operation 'Variable_2/Adam/Initializer/zeros' type=Fill>,\n",
       " <tf.Operation 'Variable_2/Adam' type=VariableV2>,\n",
       " <tf.Operation 'Variable_2/Adam/Assign' type=Assign>,\n",
       " <tf.Operation 'Variable_2/Adam/read' type=Identity>,\n",
       " <tf.Operation 'Variable_2/Adam_1/Initializer/zeros/shape_as_tensor' type=Const>,\n",
       " <tf.Operation 'Variable_2/Adam_1/Initializer/zeros/Const' type=Const>,\n",
       " <tf.Operation 'Variable_2/Adam_1/Initializer/zeros' type=Fill>,\n",
       " <tf.Operation 'Variable_2/Adam_1' type=VariableV2>,\n",
       " <tf.Operation 'Variable_2/Adam_1/Assign' type=Assign>,\n",
       " <tf.Operation 'Variable_2/Adam_1/read' type=Identity>,\n",
       " <tf.Operation 'Variable_3/Adam/Initializer/zeros/shape_as_tensor' type=Const>,\n",
       " <tf.Operation 'Variable_3/Adam/Initializer/zeros/Const' type=Const>,\n",
       " <tf.Operation 'Variable_3/Adam/Initializer/zeros' type=Fill>,\n",
       " <tf.Operation 'Variable_3/Adam' type=VariableV2>,\n",
       " <tf.Operation 'Variable_3/Adam/Assign' type=Assign>,\n",
       " <tf.Operation 'Variable_3/Adam/read' type=Identity>,\n",
       " <tf.Operation 'Variable_3/Adam_1/Initializer/zeros/shape_as_tensor' type=Const>,\n",
       " <tf.Operation 'Variable_3/Adam_1/Initializer/zeros/Const' type=Const>,\n",
       " <tf.Operation 'Variable_3/Adam_1/Initializer/zeros' type=Fill>,\n",
       " <tf.Operation 'Variable_3/Adam_1' type=VariableV2>,\n",
       " <tf.Operation 'Variable_3/Adam_1/Assign' type=Assign>,\n",
       " <tf.Operation 'Variable_3/Adam_1/read' type=Identity>,\n",
       " <tf.Operation 'Variable_4/Adam/Initializer/zeros/shape_as_tensor' type=Const>,\n",
       " <tf.Operation 'Variable_4/Adam/Initializer/zeros/Const' type=Const>,\n",
       " <tf.Operation 'Variable_4/Adam/Initializer/zeros' type=Fill>,\n",
       " <tf.Operation 'Variable_4/Adam' type=VariableV2>,\n",
       " <tf.Operation 'Variable_4/Adam/Assign' type=Assign>,\n",
       " <tf.Operation 'Variable_4/Adam/read' type=Identity>,\n",
       " <tf.Operation 'Variable_4/Adam_1/Initializer/zeros/shape_as_tensor' type=Const>,\n",
       " <tf.Operation 'Variable_4/Adam_1/Initializer/zeros/Const' type=Const>,\n",
       " <tf.Operation 'Variable_4/Adam_1/Initializer/zeros' type=Fill>,\n",
       " <tf.Operation 'Variable_4/Adam_1' type=VariableV2>,\n",
       " <tf.Operation 'Variable_4/Adam_1/Assign' type=Assign>,\n",
       " <tf.Operation 'Variable_4/Adam_1/read' type=Identity>,\n",
       " <tf.Operation 'Variable_5/Adam/Initializer/zeros/shape_as_tensor' type=Const>,\n",
       " <tf.Operation 'Variable_5/Adam/Initializer/zeros/Const' type=Const>,\n",
       " <tf.Operation 'Variable_5/Adam/Initializer/zeros' type=Fill>,\n",
       " <tf.Operation 'Variable_5/Adam' type=VariableV2>,\n",
       " <tf.Operation 'Variable_5/Adam/Assign' type=Assign>,\n",
       " <tf.Operation 'Variable_5/Adam/read' type=Identity>,\n",
       " <tf.Operation 'Variable_5/Adam_1/Initializer/zeros/shape_as_tensor' type=Const>,\n",
       " <tf.Operation 'Variable_5/Adam_1/Initializer/zeros/Const' type=Const>,\n",
       " <tf.Operation 'Variable_5/Adam_1/Initializer/zeros' type=Fill>,\n",
       " <tf.Operation 'Variable_5/Adam_1' type=VariableV2>,\n",
       " <tf.Operation 'Variable_5/Adam_1/Assign' type=Assign>,\n",
       " <tf.Operation 'Variable_5/Adam_1/read' type=Identity>,\n",
       " <tf.Operation 'Adam/beta1' type=Const>,\n",
       " <tf.Operation 'Adam/beta2' type=Const>,\n",
       " <tf.Operation 'Adam/epsilon' type=Const>,\n",
       " <tf.Operation 'Adam/update_Variable/ApplyAdam' type=ApplyAdam>,\n",
       " <tf.Operation 'Adam/update_Variable_1/ApplyAdam' type=ApplyAdam>,\n",
       " <tf.Operation 'Adam/update_Variable_2/ApplyAdam' type=ApplyAdam>,\n",
       " <tf.Operation 'Adam/update_Variable_3/ApplyAdam' type=ApplyAdam>,\n",
       " <tf.Operation 'Adam/update_Variable_4/ApplyAdam' type=ApplyAdam>,\n",
       " <tf.Operation 'Adam/update_Variable_5/ApplyAdam' type=ApplyAdam>,\n",
       " <tf.Operation 'Adam/mul' type=Mul>,\n",
       " <tf.Operation 'Adam/Assign' type=Assign>,\n",
       " <tf.Operation 'Adam/mul_1' type=Mul>,\n",
       " <tf.Operation 'Adam/Assign_1' type=Assign>,\n",
       " <tf.Operation 'Adam' type=NoOp>,\n",
       " <tf.Operation 'init' type=NoOp>]"
      ]
     },
     "execution_count": 17,
     "metadata": {},
     "output_type": "execute_result"
    }
   ],
   "source": [
    "g.get_operations()"
   ]
  },
  {
   "cell_type": "markdown",
   "metadata": {},
   "source": [
    "## WIP: Predicting, Saving, Showcasing strengths and weaknesses "
   ]
  }
 ],
 "metadata": {
  "kernelspec": {
   "display_name": "Python 3",
   "language": "python",
   "name": "python3"
  },
  "language_info": {
   "codemirror_mode": {
    "name": "ipython",
    "version": 3
   },
   "file_extension": ".py",
   "mimetype": "text/x-python",
   "name": "python",
   "nbconvert_exporter": "python",
   "pygments_lexer": "ipython3",
   "version": "3.6.4"
  }
 },
 "nbformat": 4,
 "nbformat_minor": 2
}
